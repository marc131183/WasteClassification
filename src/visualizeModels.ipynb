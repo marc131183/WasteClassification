{
 "cells": [
  {
   "cell_type": "code",
   "execution_count": 69,
   "metadata": {},
   "outputs": [],
   "source": [
    "import torch\n",
    "import os\n",
    "import graphviz\n",
    "\n",
    "from torchview import draw_graph\n",
    "from torch import nn\n",
    "from torchvision import datasets\n",
    "\n",
    "from crossValidation import (\n",
    "    model_init_function,\n",
    "    NUM_CLASSES,\n",
    "    DATA_TRANSFORMS,\n",
    "    BATCH_SIZE,\n",
    ")"
   ]
  },
  {
   "cell_type": "code",
   "execution_count": 70,
   "metadata": {},
   "outputs": [],
   "source": [
    "# Model Parameters\n",
    "model_type = \"resnet50\"\n",
    "feature_percentage_frozen = 1\n",
    "classifier_type = 0\n",
    "if classifier_type == 0:\n",
    "    model_final_struc = []\n",
    "    model_final_in = NUM_CLASSES\n",
    "elif classifier_type == 1:\n",
    "    model_final_struc = [\n",
    "        nn.ReLU(),\n",
    "        nn.Dropout(),\n",
    "        nn.Linear(512, 128),\n",
    "        nn.ReLU(),\n",
    "        nn.Dropout(),\n",
    "        nn.Linear(128, NUM_CLASSES),\n",
    "    ]\n",
    "    model_final_in = 512\n",
    "elif classifier_type == 2:\n",
    "    model_final_struc = [nn.ReLU(), nn.Dropout(), nn.Linear(128, NUM_CLASSES)]\n",
    "    model_final_in = 128\n",
    "elif classifier_type == 3:\n",
    "    model_final_struc = [\n",
    "        nn.ReLU(),\n",
    "        nn.Dropout(),\n",
    "        nn.Linear(2048, 2048),\n",
    "        nn.ReLU(),\n",
    "        nn.Dropout(),\n",
    "        nn.Linear(2048, NUM_CLASSES),\n",
    "    ]\n",
    "    model_final_in = 2048\n",
    "\n",
    "data_dir = \"../data/classification/\"\n",
    "device = torch.device(\"cuda:0\" if torch.cuda.is_available() else \"cpu\")\n",
    "\n",
    "image_datasets = {\n",
    "    x: datasets.ImageFolder(data_dir + x, DATA_TRANSFORMS[x])\n",
    "    for x in [\"train\", \"test\"]\n",
    "}\n",
    "dataset_sizes = {x: len(image_datasets[x]) for x in [\"train\", \"test\"]}\n",
    "data_loaders = {\n",
    "    x: torch.utils.data.DataLoader(\n",
    "        image_datasets[x], batch_size=BATCH_SIZE, shuffle=True, num_workers=10\n",
    "    )\n",
    "    for x in [\"train\", \"test\"]\n",
    "}\n",
    "\n",
    "model, _, _, _ = model_init_function(\n",
    "    model_type,\n",
    "    model_final_struc,\n",
    "    model_final_in,\n",
    "    device,\n",
    "    feature_percentage_frozen=feature_percentage_frozen,\n",
    ")\n",
    "\n",
    "inputs, labels = next(iter(data_loaders[\"train\"]))\n",
    "inputs.to(device)\n",
    "yhat = model(inputs)"
   ]
  },
  {
   "cell_type": "code",
   "execution_count": 71,
   "metadata": {},
   "outputs": [
    {
     "data": {
      "text/plain": [
       "'png'"
      ]
     },
     "execution_count": 71,
     "metadata": {},
     "output_type": "execute_result"
    }
   ],
   "source": [
    "graphviz.set_jupyter_format(\"png\")"
   ]
  },
  {
   "cell_type": "code",
   "execution_count": 72,
   "metadata": {},
   "outputs": [
    {
     "data": {
      "text/plain": [
       "Sequential(\n",
       "  (0): Linear(in_features=2048, out_features=5, bias=True)\n",
       ")"
      ]
     },
     "execution_count": 72,
     "metadata": {},
     "output_type": "execute_result"
    }
   ],
   "source": [
    "model.fc"
   ]
  },
  {
   "cell_type": "code",
   "execution_count": 73,
   "metadata": {},
   "outputs": [],
   "source": [
    "model_graph1 = draw_graph(model.fc, input_size=(1, 2048))"
   ]
  },
  {
   "cell_type": "code",
   "execution_count": 74,
   "metadata": {},
   "outputs": [
    {
     "data": {
      "image/png": "[encoded data removed]",
      "text/plain": [
       "<graphviz.graphs.Digraph at 0x7f0012661e80>"
      ]
     },
     "execution_count": 74,
     "metadata": {},
     "output_type": "execute_result"
    }
   ],
   "source": [
    "model_graph1.visual_graph"
   ]
  }
 ],
 "metadata": {
  "kernelspec": {
   "display_name": "Python 3.8.10 64-bit",
   "language": "python",
   "name": "python3"
  },
  "language_info": {
   "codemirror_mode": {
    "name": "ipython",
    "version": 3
   },
   "file_extension": ".py",
   "mimetype": "text/x-python",
   "name": "python",
   "nbconvert_exporter": "python",
   "pygments_lexer": "ipython3",
   "version": "3.8.10"
  },
  "orig_nbformat": 4,
  "vscode": {
   "interpreter": {
    "hash": "31f2aee4e71d21fbe5cf8b01ff0e069b9275f58929596ceb00d14d90e3e16cd6"
   }
  }
 },
 "nbformat": 4,
 "nbformat_minor": 2
}
